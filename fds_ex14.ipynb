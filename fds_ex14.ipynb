{
 "cells": [
  {
   "cell_type": "code",
   "execution_count": 2,
   "id": "5f63d0be-2c48-4e44-afee-c1d9b5ec0feb",
   "metadata": {},
   "outputs": [],
   "source": [
    "import pandas as pd"
   ]
  },
  {
   "cell_type": "code",
   "execution_count": 3,
   "id": "3e7b3650-552e-4d02-b093-1b9d0a255a84",
   "metadata": {},
   "outputs": [],
   "source": [
    "df = pd.read_csv(r\"C:\\Users\\rjana\\OneDrive\\Downloads\\Documents\\Desktop\\program\\fundaments of DS\\labfds\\customer_data.csv\") "
   ]
  },
  {
   "cell_type": "code",
   "execution_count": 4,
   "id": "c71d17e9-823b-4cd2-b37d-e6ff5adc6f28",
   "metadata": {},
   "outputs": [
    {
     "name": "stdout",
     "output_type": "stream",
     "text": [
      "Age Frequency:\n",
      " age\n",
      "23    1\n",
      "28    1\n",
      "30    1\n",
      "35    1\n",
      "42    1\n",
      "Name: count, dtype: int64\n"
     ]
    }
   ],
   "source": [
    "age_freq = df['age'].value_counts().sort_index()\n",
    "print(\"Age Frequency:\\n\", age_freq)"
   ]
  },
  {
   "cell_type": "code",
   "execution_count": null,
   "id": "2ef5b195-731a-44be-af08-a1a82b786fb4",
   "metadata": {},
   "outputs": [],
   "source": []
  }
 ],
 "metadata": {
  "kernelspec": {
   "display_name": "Python 3 (ipykernel)",
   "language": "python",
   "name": "python3"
  },
  "language_info": {
   "codemirror_mode": {
    "name": "ipython",
    "version": 3
   },
   "file_extension": ".py",
   "mimetype": "text/x-python",
   "name": "python",
   "nbconvert_exporter": "python",
   "pygments_lexer": "ipython3",
   "version": "3.12.4"
  }
 },
 "nbformat": 4,
 "nbformat_minor": 5
}
