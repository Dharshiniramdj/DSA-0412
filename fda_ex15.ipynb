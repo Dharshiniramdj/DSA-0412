{
 "cells": [
  {
   "cell_type": "code",
   "execution_count": 1,
   "id": "1706a7b4-72a9-41e1-b498-7a48ce5d0ede",
   "metadata": {},
   "outputs": [],
   "source": [
    "import pandas as pd"
   ]
  },
  {
   "cell_type": "code",
   "execution_count": 2,
   "id": "575e02d4-cf4f-4f22-822a-4b14f6afcfc4",
   "metadata": {},
   "outputs": [
    {
     "name": "stdout",
     "output_type": "stream",
     "text": [
      "Likes Frequency Distribution:\n",
      " 10    3\n",
      "12    2\n",
      "14    1\n",
      "20    2\n",
      "22    1\n",
      "Name: count, dtype: int64\n"
     ]
    }
   ],
   "source": [
    "likes = pd.Series([10, 12, 10, 14, 12, 10, 20, 22, 20])\n",
    "like_freq = likes.value_counts().sort_index()\n",
    "print(\"Likes Frequency Distribution:\\n\", like_freq)"
   ]
  },
  {
   "cell_type": "code",
   "execution_count": null,
   "id": "155340cd-3f3a-471a-9b7e-26e1f963ef52",
   "metadata": {},
   "outputs": [],
   "source": []
  }
 ],
 "metadata": {
  "kernelspec": {
   "display_name": "Python 3 (ipykernel)",
   "language": "python",
   "name": "python3"
  },
  "language_info": {
   "codemirror_mode": {
    "name": "ipython",
    "version": 3
   },
   "file_extension": ".py",
   "mimetype": "text/x-python",
   "name": "python",
   "nbconvert_exporter": "python",
   "pygments_lexer": "ipython3",
   "version": "3.12.4"
  }
 },
 "nbformat": 4,
 "nbformat_minor": 5
}
